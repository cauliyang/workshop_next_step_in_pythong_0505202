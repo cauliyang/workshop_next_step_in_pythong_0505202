{
 "cells": [
  {
   "cell_type": "markdown",
   "id": "441f51fc",
   "metadata": {},
   "source": [
    "# Python Testing with pytest"
   ]
  },
  {
   "cell_type": "code",
   "execution_count": null,
   "id": "25435b21",
   "metadata": {},
   "outputs": [
    {
     "name": "stdout",
     "output_type": "stream",
     "text": [
      "Writing test_example.py\n"
     ]
    }
   ],
   "source": [
    "%%writefile -a test_example.py\n",
    "\n",
    "def test_addition():\n",
    "    # Simple assertions\n",
    "    assert 1 + 1 == 2\n",
    "\n",
    "\n",
    "def test_string_methods():\n",
    "    # pytest shows values on failure\n",
    "    assert \"hello\".upper() == \"HELLO\"\n",
    "    assert \"world\".capitalize() == \"World\""
   ]
  },
  {
   "cell_type": "code",
   "execution_count": 3,
   "id": "809d8bc5",
   "metadata": {},
   "outputs": [
    {
     "name": "stdout",
     "output_type": "stream",
     "text": [
      "\u001b[1mTest session starts (platform: darwin, Python 3.10.17, pytest 8.3.5, pytest-sugar 0.9.7)\u001b[0m\n",
      "cachedir: .pytest_cache\n",
      "rootdir: /Users/ylk4626/writing_project/talks/workshop_next_step_in_pythong_05052025\n",
      "plugins: pytest_check_links-0.9.0, anyio-4.9.0, reportlog-0.4.0, cov-4.1.0, mock-3.11.1, typeguard-2.13.3, repeat-0.9.1, dash-2.14.2, sugar-0.9.7, hydra-core-1.3.2\n",
      "collected 2 items                                                              \u001b[0m\n",
      "\n",
      " \u001b[36mtest_example.py\u001b[0m::test_addition\u001b[0m \u001b[32m✓\u001b[0m                                 \u001b[32m50% \u001b[0m\u001b[40m\u001b[32m█\u001b[0m\u001b[40m\u001b[32m████     \u001b[0m\n",
      " \u001b[36mtest_example.py\u001b[0m::test_string_methods\u001b[0m \u001b[32m✓\u001b[0m                          \u001b[32m100% \u001b[0m\u001b[40m\u001b[32m█\u001b[0m\u001b[40m\u001b[32m████\u001b[0m\u001b[40m\u001b[32m█\u001b[0m\u001b[40m\u001b[32m████\u001b[0m\n",
      "\n",
      "Results (0.02s):\n",
      "\u001b[32m       2 passed\u001b[0m\n"
     ]
    }
   ],
   "source": [
    "!pytest test_example.py -v"
   ]
  },
  {
   "cell_type": "code",
   "execution_count": null,
   "id": "bb5a37ff",
   "metadata": {},
   "outputs": [],
   "source": [
    "# clean up\n",
    "!rm ./test_example.py"
   ]
  },
  {
   "cell_type": "code",
   "execution_count": null,
   "id": "5780b2aa",
   "metadata": {},
   "outputs": [],
   "source": []
  },
  {
   "cell_type": "code",
   "execution_count": 5,
   "id": "1ba42049",
   "metadata": {},
   "outputs": [
    {
     "name": "stdout",
     "output_type": "stream",
     "text": [
      "Writing calculator.py\n"
     ]
    }
   ],
   "source": [
    "%%writefile -a calculator.py\n",
    "\n",
    "def add(a, b):\n",
    "    \"\"\"Add two numbers.\"\"\"\n",
    "    return a + b"
   ]
  },
  {
   "cell_type": "code",
   "execution_count": 6,
   "id": "a8c826b1",
   "metadata": {},
   "outputs": [
    {
     "name": "stdout",
     "output_type": "stream",
     "text": [
      "Writing test_calculator.py\n"
     ]
    }
   ],
   "source": [
    "%%writefile test_calculator.py\n",
    "\n",
    "from calculator import add\n",
    "\n",
    "def test_add():\n",
    "    assert add(2, 3) == 5\n",
    "    assert add(-1, 1) == 0"
   ]
  },
  {
   "cell_type": "code",
   "execution_count": 7,
   "id": "f96d5fda",
   "metadata": {},
   "outputs": [
    {
     "name": "stdout",
     "output_type": "stream",
     "text": [
      "\u001b[1mTest session starts (platform: darwin, Python 3.10.17, pytest 8.3.5, pytest-sugar 0.9.7)\u001b[0m\n",
      "cachedir: .pytest_cache\n",
      "rootdir: /Users/ylk4626/writing_project/talks/workshop_next_step_in_pythong_05052025\n",
      "plugins: pytest_check_links-0.9.0, anyio-4.9.0, reportlog-0.4.0, cov-4.1.0, mock-3.11.1, typeguard-2.13.3, repeat-0.9.1, dash-2.14.2, sugar-0.9.7, hydra-core-1.3.2\n",
      "collected 1 item                                                               \u001b[0m\n",
      "\n",
      " \u001b[36mtest_calculator.py\u001b[0m::test_add\u001b[0m \u001b[32m✓\u001b[0m                                  \u001b[32m100% \u001b[0m\u001b[40m\u001b[32m█\u001b[0m\u001b[40m\u001b[32m█████████\u001b[0m\n",
      "\n",
      "Results (0.02s):\n",
      "\u001b[32m       1 passed\u001b[0m\n"
     ]
    }
   ],
   "source": [
    "!pytest test_calculator.py -v"
   ]
  },
  {
   "cell_type": "code",
   "execution_count": 8,
   "id": "dabc9374",
   "metadata": {},
   "outputs": [],
   "source": [
    "# clean up\n",
    "!rm ./test_calculator.py\n",
    "!rm ./calculator.py"
   ]
  },
  {
   "cell_type": "code",
   "execution_count": null,
   "id": "8d03c1be",
   "metadata": {},
   "outputs": [],
   "source": []
  },
  {
   "cell_type": "code",
   "execution_count": null,
   "id": "325a75d8",
   "metadata": {},
   "outputs": [],
   "source": [
    "def test_add_item():\n",
    "    cart = ShoppingCart()\n",
    "    cart.add_item(\"apple\", 1.0)\n",
    "    assert cart.total() == 1.0"
   ]
  },
  {
   "cell_type": "code",
   "execution_count": null,
   "id": "acd380f2",
   "metadata": {},
   "outputs": [],
   "source": []
  }
 ],
 "metadata": {
  "kernelspec": {
   "display_name": "base",
   "language": "python",
   "name": "python3"
  },
  "language_info": {
   "codemirror_mode": {
    "name": "ipython",
    "version": 3
   },
   "file_extension": ".py",
   "mimetype": "text/x-python",
   "name": "python",
   "nbconvert_exporter": "python",
   "pygments_lexer": "ipython3",
   "version": "3.10.17"
  }
 },
 "nbformat": 4,
 "nbformat_minor": 5
}
